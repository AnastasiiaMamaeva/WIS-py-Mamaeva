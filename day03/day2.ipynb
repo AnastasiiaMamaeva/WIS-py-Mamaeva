{
 "cells": [
  {
   "cell_type": "code",
   "execution_count": null,
   "id": "643ec824-b94a-47d1-b05f-03b9d8e00669",
   "metadata": {},
   "outputs": [
    {
     "name": "stdout",
     "output_type": "stream",
     "text": [
      "40 28\n",
      "31.41592653589793 78.53981633974483\n"
     ]
    }
   ],
   "source": [
    "width = int(input(\"input width of a rectangle\"))\n",
    "length = int(input(\"input length of the rectangle\"))\n",
    "print(\"area =\",width*length, \"circumference =\",\n",
    "      (width+length)*2, sep = \" \")\n",
    "\n",
    "import math\n",
    "radius = int(input(\"input radius of a circle\"))\n",
    "print(\"area =\",2*(math.pi)*radius,\"circumference =\",\n",
    "      (math.pi)*radius**2, sep = \" \")"
   ]
  },
  {
   "cell_type": "code",
   "execution_count": null,
   "id": "780ffdb8-8eee-44d5-aea7-eae966723e18",
   "metadata": {},
   "outputs": [],
   "source": []
  }
 ],
 "metadata": {
  "kernelspec": {
   "display_name": "Python 3 (ipykernel)",
   "language": "python",
   "name": "python3"
  },
  "language_info": {
   "codemirror_mode": {
    "name": "ipython",
    "version": 3
   },
   "file_extension": ".py",
   "mimetype": "text/x-python",
   "name": "python",
   "nbconvert_exporter": "python",
   "pygments_lexer": "ipython3",
   "version": "3.13.0"
  }
 },
 "nbformat": 4,
 "nbformat_minor": 5
}
